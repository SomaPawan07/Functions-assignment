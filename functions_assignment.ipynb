{
  "nbformat": 4,
  "nbformat_minor": 0,
  "metadata": {
    "colab": {
      "provenance": []
    },
    "kernelspec": {
      "name": "python3",
      "display_name": "Python 3"
    },
    "language_info": {
      "name": "python"
    }
  },
  "cells": [
    {
      "cell_type": "markdown",
      "source": [
        "#**Theory Questions**\n"
      ],
      "metadata": {
        "id": "KinD5OBXKlyl"
      }
    },
    {
      "cell_type": "markdown",
      "source": [
        "Q1. What is the difference between a function and a method in Python ?\n",
        "-   The difference between function and method are as follows:\n",
        "1. Definition: A function is defined using the def keyword and is not inherently tied to any object or class where as a method is a function that is associated with an object or class. It is defined within a class body.\n",
        "\n",
        "2. Invocation: Functions are called by their name and can be invoked independently on the other hand methods are called on objects or classes, and they automatically receive the instance or class as the first argument.\n",
        "\n",
        "3. Parameter: Functions are explicitly defined by the user where as method implicitly receives self or cls\n",
        "\n",
        "4. Access to state: Functions do not have access to the instance self or class cls unless explicitly passed but methods can access and modify the object's or class's state.\n",
        "\n",
        "5. Example of function:"
      ],
      "metadata": {
        "id": "nJ8DWA_-LJVh"
      }
    },
    {
      "cell_type": "code",
      "source": [
        "def calculate_area(length, width):\n",
        "    return length * width\n",
        "area = calculate_area(8, 5)\n",
        "print(f\"The area is {area}\")"
      ],
      "metadata": {
        "colab": {
          "base_uri": "https://localhost:8080/"
        },
        "id": "1nE8bQ2iY76Q",
        "outputId": "77086d21-0ab3-4099-eaf0-167425b79da5"
      },
      "execution_count": 1,
      "outputs": [
        {
          "output_type": "stream",
          "name": "stdout",
          "text": [
            "The area is 40\n"
          ]
        }
      ]
    },
    {
      "cell_type": "markdown",
      "source": [
        "Exmaple of method :"
      ],
      "metadata": {
        "id": "6rcl70FwK7Fl"
      }
    },
    {
      "cell_type": "code",
      "source": [
        "class Rectangle:\n",
        "    def __init__(self, length, width):\n",
        "        self.length = length\n",
        "        self.width = width\n",
        "    def calculate_area(self):\n",
        "        return self.length * self.width\n",
        "rect = Rectangle(5, 3)\n",
        "area = rect.calculate_area()\n",
        "print(f\"The area is {area}\")"
      ],
      "metadata": {
        "colab": {
          "base_uri": "https://localhost:8080/"
        },
        "id": "K0VQYMWPZix3",
        "outputId": "55a3a269-c891-4681-a937-ae92070ca7b4"
      },
      "execution_count": 2,
      "outputs": [
        {
          "output_type": "stream",
          "name": "stdout",
          "text": [
            "The area is 15\n"
          ]
        }
      ]
    },
    {
      "cell_type": "markdown",
      "source": [
        "Q2. Explain the concept of function arguments and parameters in Python.\n",
        "-   Arguments: Actual values passed to the function when it is called. These values are assigned to the corresponding parameters.\n",
        "\n",
        "Parameters: Variables listed inside the parentheses in a function definition.They act as placeholders for the values the function will operate on.\n",
        "\n",
        "Example:"
      ],
      "metadata": {
        "id": "Owx39ME5ZoLt"
      }
    },
    {
      "cell_type": "code",
      "source": [
        "def greetings(name):                   # 'name' is a parameter\n",
        "    print(\"Welcome to the office\",name)\n",
        "greetings(\"Ajay\")                     # 'ajay' is a argument"
      ],
      "metadata": {
        "colab": {
          "base_uri": "https://localhost:8080/"
        },
        "id": "mh7L3zQFdSUR",
        "outputId": "81f1377d-9392-4515-ed4e-678381c3a852"
      },
      "execution_count": 3,
      "outputs": [
        {
          "output_type": "stream",
          "name": "stdout",
          "text": [
            "Welcome to the office Ajay\n"
          ]
        }
      ]
    },
    {
      "cell_type": "markdown",
      "source": [
        "Q3. What are the different ways to define and call a function in Python?\n",
        "-   In Python, there are several ways to define and call functions, depending on your goals—whether you're writing reusable code, using short anonymous functions, or working with higher-order functions.\n",
        "1. Standard Function Definition\n",
        "2. Function with Default Arguments\n",
        "3. Function with Variable-Length Arguments\n",
        "4. Lambda (Anonymous) Functions\n",
        "5. Nested Functions\n",
        "6. Returning Functions (Closures)\n",
        "7. Passing Functions as Arguments\n",
        "8. Using functools.partial to Pre-Fill Arguments\n",
        "9. Calling Functions Dynamically using globals()\n",
        "\n",
        "Example:"
      ],
      "metadata": {
        "id": "zYNxHgBHdccP"
      }
    },
    {
      "cell_type": "code",
      "source": [
        "def func():\n",
        "    calc = 2+3+6*5\n",
        "    return calc\n",
        "func()"
      ],
      "metadata": {
        "colab": {
          "base_uri": "https://localhost:8080/"
        },
        "id": "8Df8kgKshHTu",
        "outputId": "908ed87d-abe6-47c7-8a92-777cf77583c3"
      },
      "execution_count": 4,
      "outputs": [
        {
          "output_type": "execute_result",
          "data": {
            "text/plain": [
              "35"
            ]
          },
          "metadata": {},
          "execution_count": 4
        }
      ]
    },
    {
      "cell_type": "markdown",
      "source": [
        "Q4. What is the purpose of the \"return\" statement in a Python function?\n",
        "-   The 'return' statement in Python is used to exit a function and send a value back to the caller. It allows a function to produce an output that can be stored, printed, or used in further computations.\n",
        "\n",
        "Example:"
      ],
      "metadata": {
        "id": "lc9lVz0whJwB"
      }
    },
    {
      "cell_type": "code",
      "source": [
        "def addition(a, b):\n",
        "    return a+b\n",
        "addition(5 , 6)"
      ],
      "metadata": {
        "colab": {
          "base_uri": "https://localhost:8080/"
        },
        "id": "691onbnniEZh",
        "outputId": "ed173102-6f98-48d1-e49c-52f47374c11e"
      },
      "execution_count": 5,
      "outputs": [
        {
          "output_type": "execute_result",
          "data": {
            "text/plain": [
              "11"
            ]
          },
          "metadata": {},
          "execution_count": 5
        }
      ]
    },
    {
      "cell_type": "markdown",
      "source": [
        "Q5. What are iterators in Python and how do they differ from iterables?\n",
        "-   An iterator is an object that allows traversal through a countable number of values. It is used to iterate over iterable objects.\n",
        "1. The difference are as follows:\n",
        "Iterables: An iterable is any Python object that can return an iterator using the built-in iter() function.\n",
        "Examples: list, tuple, str, set, dict, etc.\n",
        "\n",
        "2. An iterator is an object that keeps state and produces the next value when you call next() on it.\n",
        "Example: object returned by iter().\n"
      ],
      "metadata": {
        "id": "qH-yhFndiZgU"
      }
    },
    {
      "cell_type": "markdown",
      "source": [
        "Q6. Explain the concept of generators in Python and how they are defined.\n",
        "-   A generator in Python is a special type of iterator that is defined using a function with the yield keyword instead of return.Generators allow you to generate values one at a time, on the fly, and are memory-efficient, especially for large datasets or infinite sequences.\n",
        "Example:"
      ],
      "metadata": {
        "id": "GmYNnL1ikVMK"
      }
    },
    {
      "cell_type": "code",
      "source": [
        "def square_number_generator(n):\n",
        "    for i in range(n):\n",
        "        yield i**2\n",
        "square_number_generator(5)"
      ],
      "metadata": {
        "colab": {
          "base_uri": "https://localhost:8080/"
        },
        "id": "cPouVbbumYQR",
        "outputId": "308a4cae-87db-4c49-f77d-e5cc9ece1dc0"
      },
      "execution_count": 6,
      "outputs": [
        {
          "output_type": "execute_result",
          "data": {
            "text/plain": [
              "<generator object square_number_generator at 0x7ba4348fb6b0>"
            ]
          },
          "metadata": {},
          "execution_count": 6
        }
      ]
    },
    {
      "cell_type": "code",
      "source": [
        "gen = square_number_generator(3)\n",
        "gen"
      ],
      "metadata": {
        "colab": {
          "base_uri": "https://localhost:8080/"
        },
        "id": "OMz29B1zndcQ",
        "outputId": "e58ca3ae-2aa8-4bcb-e836-1dd5253f8c33"
      },
      "execution_count": 19,
      "outputs": [
        {
          "output_type": "execute_result",
          "data": {
            "text/plain": [
              "<generator object square_number_generator at 0x7ba4348fb9f0>"
            ]
          },
          "metadata": {},
          "execution_count": 19
        }
      ]
    },
    {
      "cell_type": "code",
      "source": [
        "next(gen)"
      ],
      "metadata": {
        "colab": {
          "base_uri": "https://localhost:8080/"
        },
        "id": "d8EWfeSyndYn",
        "outputId": "8e9655b9-81dc-4197-fa94-c8597f7521fc"
      },
      "execution_count": 20,
      "outputs": [
        {
          "output_type": "execute_result",
          "data": {
            "text/plain": [
              "0"
            ]
          },
          "metadata": {},
          "execution_count": 20
        }
      ]
    },
    {
      "cell_type": "code",
      "source": [
        "next(gen)"
      ],
      "metadata": {
        "colab": {
          "base_uri": "https://localhost:8080/"
        },
        "id": "wcwrEmzTndUw",
        "outputId": "17d89772-20ae-490e-e421-014d257cd16c"
      },
      "execution_count": 21,
      "outputs": [
        {
          "output_type": "execute_result",
          "data": {
            "text/plain": [
              "1"
            ]
          },
          "metadata": {},
          "execution_count": 21
        }
      ]
    },
    {
      "cell_type": "code",
      "source": [
        "next(gen)"
      ],
      "metadata": {
        "colab": {
          "base_uri": "https://localhost:8080/"
        },
        "id": "bVcoJVm5ndRa",
        "outputId": "02d11ac1-9645-4107-8052-eb926cf28145"
      },
      "execution_count": 22,
      "outputs": [
        {
          "output_type": "execute_result",
          "data": {
            "text/plain": [
              "4"
            ]
          },
          "metadata": {},
          "execution_count": 22
        }
      ]
    },
    {
      "cell_type": "code",
      "source": [
        "next(gen)"
      ],
      "metadata": {
        "colab": {
          "base_uri": "https://localhost:8080/"
        },
        "id": "5aDZZrG6ndN_",
        "outputId": "24c6d060-2591-418f-cfcd-248e68777ec1"
      },
      "execution_count": 23,
      "outputs": [
        {
          "output_type": "execute_result",
          "data": {
            "text/plain": [
              "9"
            ]
          },
          "metadata": {},
          "execution_count": 23
        }
      ]
    },
    {
      "cell_type": "markdown",
      "source": [
        "Q7. What are the advantages of using generators over regular functions?\n",
        "-  The advantages of using generators over regular functions are as follows:\n",
        "1. Memory use: Generators are having a low(lazy evaluation) where as regular fnction is high and stores all resulta.\n",
        "2. Returns: The generator works on generator object where as regular function works on final value or list.\n",
        "3. Syntax: Generator uses yield but regular function uses return.\n",
        "4. Performance: Generators are faster with large/streamed data on the other hand regular functions lower with large datasets."
      ],
      "metadata": {
        "id": "oUa1d1wsoEvA"
      }
    },
    {
      "cell_type": "markdown",
      "source": [
        "Q8. What is a lambda function in Python and when is it typically used?\n",
        "-   Lambda functions are small, anonymous functions defined using the lambda keyword. They are used for creating small, throwaway functions without the need to formally define a function using def.\n",
        "\n",
        ""
      ],
      "metadata": {
        "id": "IZsi5r-xra3Z"
      }
    },
    {
      "cell_type": "code",
      "source": [
        "square_lambda = lambda x: x**2\n",
        "square_lambda(6)"
      ],
      "metadata": {
        "colab": {
          "base_uri": "https://localhost:8080/"
        },
        "id": "Z_EQCURZsYDL",
        "outputId": "85d5ce89-2138-4dba-e386-dc16e8716aff"
      },
      "execution_count": 24,
      "outputs": [
        {
          "output_type": "execute_result",
          "data": {
            "text/plain": [
              "36"
            ]
          },
          "metadata": {},
          "execution_count": 24
        }
      ]
    },
    {
      "cell_type": "markdown",
      "source": [
        "Q9. Explain the purpose and usage of the `map()` function in Python.\n",
        "-   The map function applies a given function to all items in an input iterable (like a list) and returns an iterator with the results.\n",
        "Syntax: map(func, *iterables)\n"
      ],
      "metadata": {
        "id": "Dave6wWVsuuq"
      }
    },
    {
      "cell_type": "code",
      "source": [
        "def square(x):\n",
        "  return x**2\n",
        "l= [1,2,3,4,5,]\n",
        "list(map(square, l))"
      ],
      "metadata": {
        "colab": {
          "base_uri": "https://localhost:8080/"
        },
        "id": "Y-P5uLtEt0iC",
        "outputId": "5ae410c8-31c6-41fe-fe3f-2eeefec514cc"
      },
      "execution_count": 25,
      "outputs": [
        {
          "output_type": "execute_result",
          "data": {
            "text/plain": [
              "[1, 4, 9, 16, 25]"
            ]
          },
          "metadata": {},
          "execution_count": 25
        }
      ]
    },
    {
      "cell_type": "markdown",
      "source": [
        "Q10. What is the difference between `map()`, `reduce()`, and `filter()` functions in Python?\n",
        "-    The difference between 'map()', 'reduce()' and 'filter()' are as follows:\n",
        "1. Purpose: Map() applies a function to each item of an iterable,  Filter() applies a function to each item to decide whether to include it and     Reduce() repeatedly applies a function to reduce the iterable to a single value.\n",
        "2. Returns:Map() a new iterable with the transformed items, Filter() a new iterable with filtered (True) items only and Reduce() a single result  that is not an iterable.\n",
        "3. Example:"
      ],
      "metadata": {
        "id": "MwSGIj9NuECY"
      }
    },
    {
      "cell_type": "code",
      "source": [
        "# map: square each number\n",
        "list(map(lambda x: x**2, [5, 10, 15]))           # [25, 100, 225]\n",
        "\n",
        "# filter: keep even numbers\n",
        "list(filter(lambda x: x % 2 == 0, [4, 5, 8]))    # [4, 8]\n",
        "\n",
        "# reduce: multiply all numbers\n",
        "from functools import reduce\n",
        "reduce(lambda x, y: x * y, [1, 2, 3])           # 6\n"
      ],
      "metadata": {
        "id": "Ja0gJDGowbmm"
      },
      "execution_count": null,
      "outputs": []
    },
    {
      "cell_type": "markdown",
      "source": [
        "Q11. . Using pen & Paper write the internal mechanism for sum operation using reduce function on this given\n",
        "list:[47,11,42,13]"
      ],
      "metadata": {
        "id": "xdfm1vzUx-Fa"
      }
    },
    {
      "cell_type": "markdown",
      "source": [
        "![Q11. Functions assignment.jpeg](data:image/jpeg;base64,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)"
      ],
      "metadata": {
        "id": "1BrKl6wg0l4o"
      }
    },
    {
      "cell_type": "markdown",
      "source": [
        "#**Practical Questions**"
      ],
      "metadata": {
        "id": "vzKVCp2zw8_A"
      }
    },
    {
      "cell_type": "markdown",
      "source": [
        "Q1.  Write a Python function that takes a list of numbers as input and returns the sum of all even numbers in the list."
      ],
      "metadata": {
        "id": "YDGDVe875aXm"
      }
    },
    {
      "cell_type": "code",
      "source": [
        "def sum_of_even_numbers(a):\n",
        "    even_sum = 0\n",
        "    for i in a:\n",
        "        if i % 2 == 0:\n",
        "            even_sum += i\n",
        "    return even_sum\n",
        "my_list = [1, 2, 3, 4, 5, 6]\n",
        "result = sum_of_even_numbers(my_list)\n",
        "print(\"Sum of even numbers:\", result)"
      ],
      "metadata": {
        "colab": {
          "base_uri": "https://localhost:8080/"
        },
        "id": "DsMcvRO757R1",
        "outputId": "22c419f8-6988-4818-f768-59765ad1eacd"
      },
      "execution_count": 26,
      "outputs": [
        {
          "output_type": "stream",
          "name": "stdout",
          "text": [
            "Sum of even numbers: 12\n"
          ]
        }
      ]
    },
    {
      "cell_type": "markdown",
      "source": [
        "Q2. Create a Python function that accepts a string and returns the reverse of that string.\n"
      ],
      "metadata": {
        "id": "A68fwuJQDinC"
      }
    },
    {
      "cell_type": "code",
      "source": [
        "def string_reverse(name):\n",
        "    return name[::-1]\n",
        "input_str = \"Soma Kumari\"\n",
        "reversed_str = string_reverse(input_str)\n",
        "print(\"Reversed string:\", reversed_str)"
      ],
      "metadata": {
        "colab": {
          "base_uri": "https://localhost:8080/"
        },
        "id": "kZhvph0QFbWx",
        "outputId": "2ec9b1cd-c31b-4edc-e050-de2b5fb65705"
      },
      "execution_count": 27,
      "outputs": [
        {
          "output_type": "stream",
          "name": "stdout",
          "text": [
            "Reversed string: iramuK amoS\n"
          ]
        }
      ]
    },
    {
      "cell_type": "markdown",
      "source": [
        "Q3. Implement a Python function that takes a list of integers and returns a new list containing the squares of each number."
      ],
      "metadata": {
        "id": "koFoYfmcFfpn"
      }
    },
    {
      "cell_type": "code",
      "source": [
        "def square_list(a):\n",
        "    return [num ** 2 for num in a]\n",
        "l = [1, 2, 3, 4, 5]\n",
        "squared = square_list(l)\n",
        "print(\"Squared list:\", squared)"
      ],
      "metadata": {
        "colab": {
          "base_uri": "https://localhost:8080/"
        },
        "id": "cG7GTkleFvHo",
        "outputId": "69285646-2c0a-4a16-a117-e5e3128b2697"
      },
      "execution_count": 28,
      "outputs": [
        {
          "output_type": "stream",
          "name": "stdout",
          "text": [
            "Squared list: [1, 4, 9, 16, 25]\n"
          ]
        }
      ]
    },
    {
      "cell_type": "markdown",
      "source": [
        "Q4. Write a Python function that checks if a given number is prime or not from 1 to 200."
      ],
      "metadata": {
        "id": "tiGD2kGiKftp"
      }
    },
    {
      "cell_type": "code",
      "source": [
        "def is_prime(n):\n",
        "    if n < 2:\n",
        "        return False\n",
        "    for i in range(2, n):\n",
        "        if n % i == 0:\n",
        "            return False\n",
        "    return True\n",
        "for num in range(1, 201):\n",
        "    if is_prime(num):\n",
        "        print(num, \"is a prime number\")"
      ],
      "metadata": {
        "colab": {
          "base_uri": "https://localhost:8080/"
        },
        "id": "iHAiySuwKmMk",
        "outputId": "ed43af76-fb0a-4785-a2be-bdcc91ceea7c"
      },
      "execution_count": 10,
      "outputs": [
        {
          "output_type": "stream",
          "name": "stdout",
          "text": [
            "2 is a prime number\n",
            "3 is a prime number\n",
            "5 is a prime number\n",
            "7 is a prime number\n",
            "11 is a prime number\n",
            "13 is a prime number\n",
            "17 is a prime number\n",
            "19 is a prime number\n",
            "23 is a prime number\n",
            "29 is a prime number\n",
            "31 is a prime number\n",
            "37 is a prime number\n",
            "41 is a prime number\n",
            "43 is a prime number\n",
            "47 is a prime number\n",
            "53 is a prime number\n",
            "59 is a prime number\n",
            "61 is a prime number\n",
            "67 is a prime number\n",
            "71 is a prime number\n",
            "73 is a prime number\n",
            "79 is a prime number\n",
            "83 is a prime number\n",
            "89 is a prime number\n",
            "97 is a prime number\n",
            "101 is a prime number\n",
            "103 is a prime number\n",
            "107 is a prime number\n",
            "109 is a prime number\n",
            "113 is a prime number\n",
            "127 is a prime number\n",
            "131 is a prime number\n",
            "137 is a prime number\n",
            "139 is a prime number\n",
            "149 is a prime number\n",
            "151 is a prime number\n",
            "157 is a prime number\n",
            "163 is a prime number\n",
            "167 is a prime number\n",
            "173 is a prime number\n",
            "179 is a prime number\n",
            "181 is a prime number\n",
            "191 is a prime number\n",
            "193 is a prime number\n",
            "197 is a prime number\n",
            "199 is a prime number\n"
          ]
        }
      ]
    },
    {
      "cell_type": "markdown",
      "source": [
        "Q5. Create an iterator class in Python that generates the Fibonacci sequence up to a specified number of terms."
      ],
      "metadata": {
        "id": "Hlz7_hqqNPfY"
      }
    },
    {
      "cell_type": "code",
      "source": [
        "def fibonacci_generator(n):\n",
        "    a, b = 0, 1\n",
        "    for i in range(n):\n",
        "        yield a\n",
        "        a, b = b, a + b\n",
        "for num in fibonacci_generator(10):\n",
        "    print(num)"
      ],
      "metadata": {
        "colab": {
          "base_uri": "https://localhost:8080/"
        },
        "id": "GtdVaLcW2xTd",
        "outputId": "d2cc8f89-c15a-4c23-cc71-1298c5a8ef3d"
      },
      "execution_count": 4,
      "outputs": [
        {
          "output_type": "stream",
          "name": "stdout",
          "text": [
            "0\n",
            "1\n",
            "1\n",
            "2\n",
            "3\n",
            "5\n",
            "8\n",
            "13\n",
            "21\n",
            "34\n"
          ]
        }
      ]
    },
    {
      "cell_type": "markdown",
      "source": [
        "Q6. Write a generator function in Python that yields the powers of 2 up to a given exponent."
      ],
      "metadata": {
        "id": "sTUEIUcl3KAo"
      }
    },
    {
      "cell_type": "code",
      "source": [
        "def powers_of_two(a):\n",
        "    for i in range(a + 1):\n",
        "        yield 2 ** i\n",
        "for power in powers_of_two(6):\n",
        "    print(power)"
      ],
      "metadata": {
        "colab": {
          "base_uri": "https://localhost:8080/"
        },
        "id": "iM0upMjE3UlS",
        "outputId": "1780aeb8-ee2b-4b2e-ae6b-3be9d11087aa"
      },
      "execution_count": 5,
      "outputs": [
        {
          "output_type": "stream",
          "name": "stdout",
          "text": [
            "1\n",
            "2\n",
            "4\n",
            "8\n",
            "16\n",
            "32\n",
            "64\n"
          ]
        }
      ]
    },
    {
      "cell_type": "markdown",
      "source": [
        "Q7. Implement a generator function that reads a file line by line and yields each line as a string."
      ],
      "metadata": {
        "id": "Ab7Dd-eg5Wol"
      }
    },
    {
      "cell_type": "code",
      "source": [
        "def read_line(welcome):\n",
        "    for line in file:\n",
        "        yield line.strip()\n",
        "print(\"Welcome to the office Rahul\")\n",
        "print(\"Welcome to the office Shyam\")\n",
        "print(\"Welcome to the office Ambika\")"
      ],
      "metadata": {
        "colab": {
          "base_uri": "https://localhost:8080/"
        },
        "id": "lSUg29xu9mFD",
        "outputId": "436183a2-74d6-4299-cf93-8d7714a7c6bd"
      },
      "execution_count": 6,
      "outputs": [
        {
          "output_type": "stream",
          "name": "stdout",
          "text": [
            "Welcome to the office Rahul\n",
            "Welcome to the office Shyam\n",
            "Welcome to the office Ambika\n"
          ]
        }
      ]
    },
    {
      "cell_type": "markdown",
      "source": [
        "Q8. Use a lambda function in Python to sort a list of tuples based on the second element of each tuple."
      ],
      "metadata": {
        "id": "fSizOWIx9n3l"
      }
    },
    {
      "cell_type": "code",
      "source": [
        "t = [(7, 8), (8, 9), (2, 5), (6, 1)]\n",
        "\n",
        "sorted(t, key= lambda x: x[1])"
      ],
      "metadata": {
        "colab": {
          "base_uri": "https://localhost:8080/"
        },
        "id": "yrXONa8i9uZp",
        "outputId": "f0370828-7759-44fc-9cdf-9e1b70195ec6"
      },
      "execution_count": 7,
      "outputs": [
        {
          "output_type": "execute_result",
          "data": {
            "text/plain": [
              "[(6, 1), (2, 5), (7, 8), (8, 9)]"
            ]
          },
          "metadata": {},
          "execution_count": 7
        }
      ]
    },
    {
      "cell_type": "markdown",
      "source": [
        "Q9. Write a Python program that uses `map()` to convert a list of temperatures from Celsius to Fahrenheit."
      ],
      "metadata": {
        "id": "v-QIS4gz_kKl"
      }
    },
    {
      "cell_type": "code",
      "source": [
        "#formula = (celcius*9/5) +32\n",
        "\n",
        "celcius =[10,20,22,37,55,100]\n",
        "list(map(lambda c: (c*9/5)+32, celcius))"
      ],
      "metadata": {
        "colab": {
          "base_uri": "https://localhost:8080/"
        },
        "id": "TL1ZrSR1_rL0",
        "outputId": "da07dd73-b947-43c2-cc68-f8f09f70516d"
      },
      "execution_count": 8,
      "outputs": [
        {
          "output_type": "execute_result",
          "data": {
            "text/plain": [
              "[50.0, 68.0, 71.6, 98.6, 131.0, 212.0]"
            ]
          },
          "metadata": {},
          "execution_count": 8
        }
      ]
    },
    {
      "cell_type": "markdown",
      "source": [
        "Q10. Create a Python program that uses `filter()` to remove all the vowels from a given string."
      ],
      "metadata": {
        "id": "Bf1-EjpXBEcw"
      }
    },
    {
      "cell_type": "code",
      "source": [
        "def remove_vowels_with_filter(a):\n",
        "    vowels = 'aeiouAEIOU'\n",
        "    filtered_chars = filter(lambda char: char not in vowels, a)\n",
        "\n",
        "    for char in filtered_chars:\n",
        "        print(char, end='')\n",
        "    print()\n",
        "sentence = \"I am learning data analytics\"\n",
        "remove_vowels_with_filter(sentence)\n"
      ],
      "metadata": {
        "colab": {
          "base_uri": "https://localhost:8080/"
        },
        "id": "fIQcQJT5BL2-",
        "outputId": "aacf8512-bc02-4340-a2ed-d404d4271dbf"
      },
      "execution_count": 9,
      "outputs": [
        {
          "output_type": "stream",
          "name": "stdout",
          "text": [
            " m lrnng dt nlytcs\n"
          ]
        }
      ]
    },
    {
      "cell_type": "markdown",
      "source": [
        "Q11. Write a Python program, which returns a list with 2-tuples. Each tuple consists of the order number and the\n",
        "product of the price per item and the quantity. The product should be increased by 10,- € if the value of the\n",
        "order is smaller than 100,00 €.\n",
        "\n",
        "Write a Python program using lambda and map"
      ],
      "metadata": {
        "id": "f6HbpeykM321"
      }
    },
    {
      "cell_type": "code",
      "source": [
        "orders = [\n",
        "    [34587, \"Learning Python, Mark Lutz\", 4, 40.95],\n",
        "    [98762, \"Programming Python, Mark Lutz\", 5, 56.80],\n",
        "    [77226, \"Head First Python, Paul Barry\", 3, 32.95],\n",
        "    [88112, \"Einführung in Python3, Bernd Klein\", 3, 24.99]\n",
        "]\n",
        "\n",
        "result = list(map(lambda order: (order[0], order[2] * order[3] + (10 if order[2] * order[3] < 100 else 0)), orders))\n",
        "\n",
        "print(result)"
      ],
      "metadata": {
        "colab": {
          "base_uri": "https://localhost:8080/"
        },
        "id": "xBtJRnMuM5Wu",
        "outputId": "b725969a-9d7f-4efd-a2da-4f51d9f64218"
      },
      "execution_count": 12,
      "outputs": [
        {
          "output_type": "stream",
          "name": "stdout",
          "text": [
            "[(34587, 163.8), (98762, 284.0), (77226, 108.85000000000001), (88112, 84.97)]\n"
          ]
        }
      ]
    },
    {
      "cell_type": "markdown",
      "source": [],
      "metadata": {
        "id": "lJyfVNDJdG8e"
      }
    },
    {
      "cell_type": "markdown",
      "source": [],
      "metadata": {
        "id": "EE7EaHSkZskd"
      }
    },
    {
      "cell_type": "markdown",
      "source": [],
      "metadata": {
        "id": "rycu0MS7kZm4"
      }
    },
    {
      "cell_type": "markdown",
      "source": [],
      "metadata": {
        "id": "QilURvVVKyMt"
      }
    }
  ]
}